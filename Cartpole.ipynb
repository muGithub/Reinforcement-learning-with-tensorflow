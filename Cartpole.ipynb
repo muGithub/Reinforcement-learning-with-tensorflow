{
  "nbformat": 4,
  "nbformat_minor": 0,
  "metadata": {
    "colab": {
      "name": "Cartpole.ipynb",
      "provenance": [],
      "authorship_tag": "ABX9TyNGzSiadZtfkA/JdB8Um8bB",
      "include_colab_link": true
    },
    "kernelspec": {
      "name": "python3",
      "display_name": "Python 3"
    }
  },
  "cells": [
    {
      "cell_type": "markdown",
      "metadata": {
        "id": "view-in-github",
        "colab_type": "text"
      },
      "source": [
        "<a href=\"https://colab.research.google.com/github/muGithub/Reinforcement-learning-with-tensorflow/blob/master/Cartpole.ipynb\" target=\"_parent\"><img src=\"https://colab.research.google.com/assets/colab-badge.svg\" alt=\"Open In Colab\"/></a>"
      ]
    },
    {
      "cell_type": "markdown",
      "metadata": {
        "id": "YvE5cqHonR5J",
        "colab_type": "text"
      },
      "source": [
        "Cartpole with DQN"
      ]
    },
    {
      "cell_type": "code",
      "metadata": {
        "id": "QgcZ97xEnYrO",
        "colab_type": "code",
        "colab": {
          "base_uri": "https://localhost:8080/",
          "height": 146
        },
        "outputId": "579cdcb1-4413-44af-814d-8a1ba5231c27"
      },
      "source": [
        "!pip install torch_nightly -f https://download.pytorch.org/whl/nightly/cpu/torch_nightly.html\n",
        "!pip install -q gym ipdb"
      ],
      "execution_count": 1,
      "outputs": [
        {
          "output_type": "stream",
          "text": [
            "Looking in links: https://download.pytorch.org/whl/nightly/cpu/torch_nightly.html\n",
            "Collecting torch_nightly\n",
            "\u001b[?25l  Downloading https://download.pytorch.org/whl/nightly/cpu/torch_nightly-1.2.0.dev20190805%2Bcpu-cp36-cp36m-linux_x86_64.whl (103.6MB)\n",
            "\u001b[K     |████████████████████████████████| 103.6MB 90kB/s \n",
            "\u001b[?25hInstalling collected packages: torch-nightly\n",
            "Successfully installed torch-nightly-1.2.0.dev20190805+cpu\n",
            "  Building wheel for ipdb (setup.py) ... \u001b[?25l\u001b[?25hdone\n"
          ],
          "name": "stdout"
        }
      ]
    },
    {
      "cell_type": "code",
      "metadata": {
        "id": "5mtnUwCBiV_X",
        "colab_type": "code",
        "colab": {}
      },
      "source": [
        "from collections import deque\n",
        "import gym, random, math, ipdb\n",
        "from tqdm import trange\n",
        "import numpy as np\n",
        "\n",
        "import torch\n",
        "import torch.nn as nn\n",
        "import torch.optim as optim\n",
        "\n",
        "gym.logger.set_level(40)\n",
        "import matplotlib.pyplot as plt\n",
        "%matplotlib inline"
      ],
      "execution_count": 0,
      "outputs": []
    },
    {
      "cell_type": "code",
      "metadata": {
        "id": "XxfGz5m_icmp",
        "colab_type": "code",
        "colab": {}
      },
      "source": [
        "class DQN(nn.Module):\n",
        "  input_dim = 4\n",
        "  output_dim = 2\n",
        "  hidden = 64\n",
        "\n",
        "  def __init__(self):\n",
        "    super(DQN, self).__init__()\n",
        "    self.features = nn.Sequential(\n",
        "        nn.Linear(self.input_dim, self.hidden),\n",
        "        nn.ReLU(),\n",
        "        nn.Linear(self.hidden, self.hidden),\n",
        "        nn.ReLU())\n",
        "    self.adv = nn.Linear(self.hidden, self.output_dim)\n",
        "    self.val = nn.Linear(self.hidden, 1)\n",
        "\n",
        "  def forward(self, x):\n",
        "    x = self.features(x)\n",
        "    adv = self.adv(x)\n",
        "    val = self.val(x)\n",
        "    return val + adv - adv.mean(1, keepdim=True)"
      ],
      "execution_count": 0,
      "outputs": []
    },
    {
      "cell_type": "code",
      "metadata": {
        "id": "ALDIkjeQifmt",
        "colab_type": "code",
        "colab": {}
      },
      "source": [
        "class Agent:\n",
        "  output_dim = 2\n",
        "  lr = 1e-3\n",
        "  batch_size = 32\n",
        "  gamma = 0.99\n",
        "\n",
        "  def __init__(self):\n",
        "    self.online_net = DQN()\n",
        "    self.online_net.train()\n",
        "\n",
        "    self.target_net = DQN()\n",
        "    self.update_target_net()\n",
        "    for param in self.target_net.parameters(): param.requires_grad = False\n",
        "\n",
        "    self.optimiser = optim.Adam(self.online_net.parameters(), lr=self.lr)\n",
        "\n",
        "  def act(self, state):\n",
        "    state = torch.FloatTensor(state).unsqueeze(0)\n",
        "    with torch.no_grad():\n",
        "      return self.online_net(state).argmax(1).item()\n",
        "\n",
        "  def act_e_greedy(self, state, epsilon=0.01):\n",
        "    if random.random() < epsilon:\n",
        "      return random.randrange(self.output_dim)\n",
        "    else:\n",
        "      return self.act(state)\n",
        "\n",
        "  def _sample_batch(self, buffer):\n",
        "    s, a, r, ns, t = zip(*random.sample(buffer, self.batch_size))\n",
        "    f, l = torch.FloatTensor, torch.LongTensor\n",
        "    return f(s), l(a), f(r), f(ns), f(t)\n",
        "\n",
        "  def train_iter(self, buffer):\n",
        "    state, action, reward, next_state, terminal = self._sample_batch(buffer)\n",
        "       \n",
        "    q_value = self.online_net(state)[range(self.batch_size), action]\n",
        "    with torch.no_grad():\n",
        "      next_state_action = self.online_net(next_state).max(1)[1] # online_net to get action for next_state\n",
        "      next_qv = self.target_net(next_state)[range(self.batch_size), next_state_action] # target_net to get Q\n",
        "      target_qv = reward + self.gamma * (1 - terminal) * next_qv\n",
        "    \n",
        "    loss = (q_value - target_qv).pow(2).mean()\n",
        "\n",
        "    self.optimiser.zero_grad()\n",
        "    loss.backward()\n",
        "    self.optimiser.step()\n",
        "    return loss.item()\n",
        "\n",
        "  def update_target_net(self):\n",
        "    self.target_net.load_state_dict(self.online_net.state_dict())\n",
        "\n"
      ],
      "execution_count": 0,
      "outputs": []
    },
    {
      "cell_type": "code",
      "metadata": {
        "id": "Zfu7PuMrikcN",
        "colab_type": "code",
        "colab": {
          "base_uri": "https://localhost:8080/",
          "height": 357
        },
        "outputId": "c45ef578-9f90-4522-9fc6-aa5c18410900"
      },
      "source": [
        "buffer = deque(maxlen=5000)\n",
        "env = gym.make(\"CartPole-v0\")\n",
        "agent = Agent()\n",
        "\n",
        "rewards, loss = [], []\n",
        "episode_reward = 0\n",
        "state = env.reset()\n",
        "\n",
        "for i in trange(10000):\n",
        "  eps = .01 + .99 * math.exp(-i / 500) # close to .01 at 3500\n",
        "  action = agent.act_e_greedy(state, eps)\n",
        "  next_state, reward, done, _ = env.step(action)\n",
        "  buffer.append((state, action, reward, next_state, done))\n",
        "  \n",
        "  state = next_state\n",
        "  episode_reward += reward\n",
        "  \n",
        "  if done:\n",
        "    state = env.reset()\n",
        "    rewards.append(episode_reward)\n",
        "    episode_reward = 0\n",
        "    \n",
        "  if i > 100:\n",
        "    loss.append(agent.train_iter(buffer))\n",
        "   \n",
        "  if i > 100 and i % 100 == 0:\n",
        "    agent.update_target_net()\n",
        "\n",
        "plt.figure(figsize=(20,5))\n",
        "plt.subplot(131)\n",
        "plt.plot(rewards)\n",
        "plt.subplot(132)\n",
        "plt.plot(loss)"
      ],
      "execution_count": 5,
      "outputs": [
        {
          "output_type": "stream",
          "text": [
            "100%|██████████| 10000/10000 [00:22<00:00, 448.11it/s]\n"
          ],
          "name": "stderr"
        },
        {
          "output_type": "execute_result",
          "data": {
            "text/plain": [
              "[<matplotlib.lines.Line2D at 0x7fa996418ba8>]"
            ]
          },
          "metadata": {
            "tags": []
          },
          "execution_count": 5
        },
        {
          "output_type": "display_data",
          "data": {
            "image/png": "[encoded data removed]",
            "text/plain": [
              "<Figure size 1440x360 with 2 Axes>"
            ]
          },
          "metadata": {
            "tags": []
          }
        }
      ]
    },
    {
      "cell_type": "code",
      "metadata": {
        "id": "SmXGjjtWim6_",
        "colab_type": "code",
        "colab": {}
      },
      "source": [
        ""
      ],
      "execution_count": 0,
      "outputs": []
    }
  ]
}